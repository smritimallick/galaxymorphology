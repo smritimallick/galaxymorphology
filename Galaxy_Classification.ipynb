{
 "cells": [
  {
   "cell_type": "code",
   "execution_count": 1,
   "id": "cf1f01cd",
   "metadata": {},
   "outputs": [
    {
     "data": {
      "text/html": [
       "        <script type=\"text/javascript\">\n",
       "        window.PlotlyConfig = {MathJaxConfig: 'local'};\n",
       "        if (window.MathJax && window.MathJax.Hub && window.MathJax.Hub.Config) {window.MathJax.Hub.Config({SVG: {font: \"STIX-Web\"}});}\n",
       "        if (typeof require !== 'undefined') {\n",
       "        require.undef(\"plotly\");\n",
       "        requirejs.config({\n",
       "            paths: {\n",
       "                'plotly': ['https://cdn.plot.ly/plotly-2.14.0.min']\n",
       "            }\n",
       "        });\n",
       "        require(['plotly'], function(Plotly) {\n",
       "            window._Plotly = Plotly;\n",
       "        });\n",
       "        }\n",
       "        </script>\n",
       "        "
      ]
     },
     "metadata": {},
     "output_type": "display_data"
    }
   ],
   "source": [
    "import time\n",
    "import numpy as np\n",
    "import pandas as pd\n",
    "import matplotlib.pyplot as plt \n",
    "import seaborn as sns\n",
    "%matplotlib inline \n",
    "\n",
    "from tensorflow.keras.models import Sequential\n",
    "from tensorflow.keras.layers import Dense "
   ]
  },
  {
   "cell_type": "code",
   "execution_count": 2,
   "id": "1a55464c",
   "metadata": {},
   "outputs": [
    {
     "data": {
      "text/html": [
       "<div>\n",
       "<style scoped>\n",
       "    .dataframe tbody tr th:only-of-type {\n",
       "        vertical-align: middle;\n",
       "    }\n",
       "\n",
       "    .dataframe tbody tr th {\n",
       "        vertical-align: top;\n",
       "    }\n",
       "\n",
       "    .dataframe thead th {\n",
       "        text-align: right;\n",
       "    }\n",
       "</style>\n",
       "<table border=\"1\" class=\"dataframe\">\n",
       "  <thead>\n",
       "    <tr style=\"text-align: right;\">\n",
       "      <th></th>\n",
       "      <th>OBJID</th>\n",
       "      <th>RA</th>\n",
       "      <th>DEC</th>\n",
       "      <th>NVOTE</th>\n",
       "      <th>P_EL</th>\n",
       "      <th>P_CW</th>\n",
       "      <th>P_ACW</th>\n",
       "      <th>P_EDGE</th>\n",
       "      <th>P_DK</th>\n",
       "      <th>P_MG</th>\n",
       "      <th>P_CS</th>\n",
       "      <th>P_EL_DEBIASED</th>\n",
       "      <th>P_CS_DEBIASED</th>\n",
       "      <th>SPIRAL</th>\n",
       "      <th>ELLIPTICAL</th>\n",
       "      <th>UNCERTAIN</th>\n",
       "    </tr>\n",
       "  </thead>\n",
       "  <tbody>\n",
       "    <tr>\n",
       "      <th>0</th>\n",
       "      <td>587727178986356823</td>\n",
       "      <td>00:00:00.41</td>\n",
       "      <td>-10:22:25.7</td>\n",
       "      <td>59</td>\n",
       "      <td>0.610</td>\n",
       "      <td>0.034</td>\n",
       "      <td>0.000</td>\n",
       "      <td>0.153</td>\n",
       "      <td>0.153</td>\n",
       "      <td>0.051</td>\n",
       "      <td>0.186</td>\n",
       "      <td>0.610</td>\n",
       "      <td>0.186</td>\n",
       "      <td>0</td>\n",
       "      <td>0</td>\n",
       "      <td>1</td>\n",
       "    </tr>\n",
       "    <tr>\n",
       "      <th>1</th>\n",
       "      <td>587727227300741210</td>\n",
       "      <td>00:00:00.74</td>\n",
       "      <td>-09:13:20.2</td>\n",
       "      <td>18</td>\n",
       "      <td>0.611</td>\n",
       "      <td>0.000</td>\n",
       "      <td>0.167</td>\n",
       "      <td>0.222</td>\n",
       "      <td>0.000</td>\n",
       "      <td>0.000</td>\n",
       "      <td>0.389</td>\n",
       "      <td>0.203</td>\n",
       "      <td>0.797</td>\n",
       "      <td>1</td>\n",
       "      <td>0</td>\n",
       "      <td>0</td>\n",
       "    </tr>\n",
       "    <tr>\n",
       "      <th>2</th>\n",
       "      <td>587727225153257596</td>\n",
       "      <td>00:00:01.03</td>\n",
       "      <td>-10:56:48.0</td>\n",
       "      <td>68</td>\n",
       "      <td>0.735</td>\n",
       "      <td>0.029</td>\n",
       "      <td>0.000</td>\n",
       "      <td>0.147</td>\n",
       "      <td>0.074</td>\n",
       "      <td>0.015</td>\n",
       "      <td>0.176</td>\n",
       "      <td>0.432</td>\n",
       "      <td>0.428</td>\n",
       "      <td>0</td>\n",
       "      <td>0</td>\n",
       "      <td>1</td>\n",
       "    </tr>\n",
       "    <tr>\n",
       "      <th>3</th>\n",
       "      <td>587730774962536596</td>\n",
       "      <td>00:00:01.38</td>\n",
       "      <td>+15:30:35.3</td>\n",
       "      <td>52</td>\n",
       "      <td>0.885</td>\n",
       "      <td>0.019</td>\n",
       "      <td>0.000</td>\n",
       "      <td>0.058</td>\n",
       "      <td>0.019</td>\n",
       "      <td>0.019</td>\n",
       "      <td>0.077</td>\n",
       "      <td>0.885</td>\n",
       "      <td>0.077</td>\n",
       "      <td>0</td>\n",
       "      <td>1</td>\n",
       "      <td>0</td>\n",
       "    </tr>\n",
       "    <tr>\n",
       "      <th>4</th>\n",
       "      <td>587731186203885750</td>\n",
       "      <td>00:00:01.55</td>\n",
       "      <td>-00:05:33.3</td>\n",
       "      <td>59</td>\n",
       "      <td>0.712</td>\n",
       "      <td>0.000</td>\n",
       "      <td>0.000</td>\n",
       "      <td>0.220</td>\n",
       "      <td>0.068</td>\n",
       "      <td>0.000</td>\n",
       "      <td>0.220</td>\n",
       "      <td>0.640</td>\n",
       "      <td>0.290</td>\n",
       "      <td>0</td>\n",
       "      <td>0</td>\n",
       "      <td>1</td>\n",
       "    </tr>\n",
       "  </tbody>\n",
       "</table>\n",
       "</div>"
      ],
      "text/plain": [
       "                OBJID           RA          DEC  NVOTE   P_EL   P_CW  P_ACW  \\\n",
       "0  587727178986356823  00:00:00.41  -10:22:25.7     59  0.610  0.034  0.000   \n",
       "1  587727227300741210  00:00:00.74  -09:13:20.2     18  0.611  0.000  0.167   \n",
       "2  587727225153257596  00:00:01.03  -10:56:48.0     68  0.735  0.029  0.000   \n",
       "3  587730774962536596  00:00:01.38  +15:30:35.3     52  0.885  0.019  0.000   \n",
       "4  587731186203885750  00:00:01.55  -00:05:33.3     59  0.712  0.000  0.000   \n",
       "\n",
       "   P_EDGE   P_DK   P_MG   P_CS  P_EL_DEBIASED  P_CS_DEBIASED  SPIRAL  \\\n",
       "0   0.153  0.153  0.051  0.186          0.610          0.186       0   \n",
       "1   0.222  0.000  0.000  0.389          0.203          0.797       1   \n",
       "2   0.147  0.074  0.015  0.176          0.432          0.428       0   \n",
       "3   0.058  0.019  0.019  0.077          0.885          0.077       0   \n",
       "4   0.220  0.068  0.000  0.220          0.640          0.290       0   \n",
       "\n",
       "   ELLIPTICAL  UNCERTAIN  \n",
       "0           0          1  \n",
       "1           0          0  \n",
       "2           0          1  \n",
       "3           1          0  \n",
       "4           0          1  "
      ]
     },
     "execution_count": 2,
     "metadata": {},
     "output_type": "execute_result"
    }
   ],
   "source": [
    "dataset = pd.read_csv('GalaxyZoo1_DR_table2.csv')\n",
    "dataset.head()"
   ]
  },
  {
   "cell_type": "code",
   "execution_count": 3,
   "id": "7b625258",
   "metadata": {},
   "outputs": [
    {
     "name": "stdout",
     "output_type": "stream",
     "text": [
      "The shape of the dataset :  (667944, 16)\n"
     ]
    }
   ],
   "source": [
    "print(\"The shape of the dataset : \", dataset.shape)"
   ]
  },
  {
   "cell_type": "code",
   "execution_count": 4,
   "id": "f7262cd5",
   "metadata": {},
   "outputs": [],
   "source": [
    "data = dataset.drop(['OBJID','RA','DEC'],axis=1)"
   ]
  },
  {
   "cell_type": "code",
   "execution_count": 5,
   "id": "af61e1d8",
   "metadata": {},
   "outputs": [
    {
     "data": {
      "image/png": "[encoded data removed]",
      "text/plain": [
       "<Figure size 576x504 with 1 Axes>"
      ]
     },
     "metadata": {
      "needs_background": "light"
     },
     "output_type": "display_data"
    }
   ],
   "source": [
    "plt.figure(figsize=(8,7))\n",
    "plt.title('Count plot for Galaxy types ')\n",
    "countplt = data[['SPIRAL','ELLIPTICAL','UNCERTAIN']]\n",
    "sns.countplot(x=\"variable\",hue='value', data=pd.melt(countplt), palette = \"viridis\")\n",
    "plt.xlabel('Classes')\n",
    "plt.show()"
   ]
  },
  {
   "cell_type": "code",
   "execution_count": 6,
   "id": "882ecbbd",
   "metadata": {},
   "outputs": [],
   "source": [
    "X = data.drop(['SPIRAL','ELLIPTICAL','UNCERTAIN'],axis=1).values\n",
    "y = data[['SPIRAL','ELLIPTICAL','UNCERTAIN']].values\n",
    "from sklearn.model_selection import train_test_split\n",
    "X_train,X_test,y_train,y_test = train_test_split(X,y,test_size=0.2,random_state=101)\n",
    "\n",
    "from sklearn.preprocessing import MinMaxScaler\n",
    "scaler = MinMaxScaler()\n",
    "\n",
    "X_train = scaler.fit_transform(X_train)\n",
    "X_test = scaler.transform(X_test)"
   ]
  },
  {
   "cell_type": "code",
   "execution_count": 7,
   "id": "3fd866d8",
   "metadata": {},
   "outputs": [],
   "source": [
    "model = Sequential()\n",
    "\n",
    "model.add(Dense(10,activation='relu'))\n",
    "model.add(Dense(5,activation='relu'))\n",
    "\n",
    "model.add(Dense(3, activation = 'softmax'))\n",
    "\n",
    "model.compile(optimizer='adam',loss='categorical_crossentropy',metrics=['accuracy'])\n",
    "start = time.perf_counter()"
   ]
  },
  {
   "cell_type": "code",
   "execution_count": 8,
   "id": "6dfc9a3b",
   "metadata": {
    "scrolled": true
   },
   "outputs": [
    {
     "name": "stdout",
     "output_type": "stream",
     "text": [
      "Epoch 1/20\n",
      "16699/16699 [==============================] - 8s 487us/step - loss: 0.2828 - accuracy: 0.8775\n",
      "Epoch 2/20\n",
      "16699/16699 [==============================] - 8s 483us/step - loss: 0.2451 - accuracy: 0.8942\n",
      "Epoch 3/20\n",
      "16699/16699 [==============================] - 8s 484us/step - loss: 0.2397 - accuracy: 0.8968\n",
      "Epoch 4/20\n",
      "16699/16699 [==============================] - 8s 474us/step - loss: 0.2367 - accuracy: 0.8978\n",
      "Epoch 5/20\n",
      "16699/16699 [==============================] - 8s 488us/step - loss: 0.2350 - accuracy: 0.8983\n",
      "Epoch 6/20\n",
      "16699/16699 [==============================] - 8s 482us/step - loss: 0.2341 - accuracy: 0.8987\n",
      "Epoch 7/20\n",
      "16699/16699 [==============================] - 8s 489us/step - loss: 0.2330 - accuracy: 0.8990\n",
      "Epoch 8/20\n",
      "16699/16699 [==============================] - 8s 487us/step - loss: 0.2290 - accuracy: 0.8991\n",
      "Epoch 9/20\n",
      "16699/16699 [==============================] - 8s 497us/step - loss: 0.2221 - accuracy: 0.9004\n",
      "Epoch 10/20\n",
      "16699/16699 [==============================] - 8s 484us/step - loss: 0.2192 - accuracy: 0.9002\n",
      "Epoch 11/20\n",
      "16699/16699 [==============================] - 8s 476us/step - loss: 0.2180 - accuracy: 0.9005\n",
      "Epoch 12/20\n",
      "16699/16699 [==============================] - 9s 510us/step - loss: 0.2171 - accuracy: 0.9007\n",
      "Epoch 13/20\n",
      "16699/16699 [==============================] - 8s 505us/step - loss: 0.2164 - accuracy: 0.9004\n",
      "Epoch 14/20\n",
      "16699/16699 [==============================] - 9s 522us/step - loss: 0.2158 - accuracy: 0.9006\n",
      "Epoch 15/20\n",
      "16699/16699 [==============================] - 9s 520us/step - loss: 0.2154 - accuracy: 0.9004\n",
      "Epoch 16/20\n",
      "16699/16699 [==============================] - 9s 536us/step - loss: 0.2148 - accuracy: 0.9003\n",
      "Epoch 17/20\n",
      "16699/16699 [==============================] - 8s 503us/step - loss: 0.2143 - accuracy: 0.9003\n",
      "Epoch 18/20\n",
      "16699/16699 [==============================] - 9s 514us/step - loss: 0.2138 - accuracy: 0.9003\n",
      "Epoch 19/20\n",
      "16699/16699 [==============================] - 9s 519us/step - loss: 0.2135 - accuracy: 0.9006\n",
      "Epoch 20/20\n",
      "16699/16699 [==============================] - 8s 509us/step - loss: 0.2132 - accuracy: 0.9005\n",
      "\n",
      "TIME ELAPSED 166.8385589Seconds\n"
     ]
    }
   ],
   "source": [
    "model.fit(x=X_train,y=y_train,epochs=20)\n",
    "print('\\nTIME ELAPSED {}Seconds'.format(time.perf_counter() - start))"
   ]
  },
  {
   "cell_type": "code",
   "execution_count": 9,
   "id": "2a535480",
   "metadata": {},
   "outputs": [
    {
     "data": {
      "text/plain": [
       "[<matplotlib.lines.Line2D at 0x27d56a954f0>]"
      ]
     },
     "execution_count": 9,
     "metadata": {},
     "output_type": "execute_result"
    },
    {
     "data": {
      "image/png": "[encoded data removed]",
      "text/plain": [
       "<Figure size 864x504 with 1 Axes>"
      ]
     },
     "metadata": {
      "needs_background": "light"
     },
     "output_type": "display_data"
    }
   ],
   "source": [
    "mod_history = pd.DataFrame(model.history.history)\n",
    "plt.figure(figsize=(12,7))\n",
    "plt.style.use('seaborn-whitegrid')\n",
    "plt.title('Model History')\n",
    "plt.ylabel('Accuracy')\n",
    "plt.xlabel('Epoch')\n",
    "plt.plot(mod_history['accuracy'],color='teal',lw=3)"
   ]
  },
  {
   "cell_type": "code",
   "execution_count": 10,
   "id": "7d7fabd9",
   "metadata": {},
   "outputs": [
    {
     "name": "stdout",
     "output_type": "stream",
     "text": [
      "522/522 - 0s - loss: 0.2165 - accuracy: 0.8998 - 272ms/epoch - 522us/step\n",
      "test accuracy: 0.899849534034729\n"
     ]
    }
   ],
   "source": [
    "score, acc = model.evaluate(X_test, y_test,verbose=2, batch_size= 256)\n",
    "print('test accuracy:', acc)"
   ]
  }
 ],
 "metadata": {
  "kernelspec": {
   "display_name": "Python 3 (ipykernel)",
   "language": "python",
   "name": "python3"
  },
  "language_info": {
   "codemirror_mode": {
    "name": "ipython",
    "version": 3
   },
   "file_extension": ".py",
   "mimetype": "text/x-python",
   "name": "python",
   "nbconvert_exporter": "python",
   "pygments_lexer": "ipython3",
   "version": "3.9.7"
  }
 },
 "nbformat": 4,
 "nbformat_minor": 5
}
